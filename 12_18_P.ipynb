{
 "cells": [
  {
   "cell_type": "code",
   "execution_count": 16,
   "id": "bab52f91-973a-4b20-8607-0cfd31186cb6",
   "metadata": {},
   "outputs": [
    {
     "name": "stdout",
     "output_type": "stream",
     "text": [
      "30\n",
      "50\n",
      "70\n",
      "40는 10보다 커.\n"
     ]
    }
   ],
   "source": [
    "# 행단위 명령어 : 한줄 명령어다.\n",
    "a = 10\n",
    "b = 20\n",
    "print ( a + b )\n",
    "\n",
    "a = 30\n",
    "print ( a + b )\n",
    "\n",
    "b = 40; print ( a + b)   # 여러개의 명령어를 한줄에 작성하는 경우에는 ;으로 명령어를 구분\n",
    "\n",
    "if b < 10: \n",
    "    print(str(b)+'는 10보다 작다.') \n",
    "elif b >= 10: \n",
    "    print(str(b)+'는 10보다 커.')"
   ]
  },
  {
   "cell_type": "code",
   "execution_count": 20,
   "id": "2a2e263c-1e2e-470f-9943-ef696a039c34",
   "metadata": {},
   "outputs": [
    {
     "name": "stdout",
     "output_type": "stream",
     "text": [
      "20\n",
      "50\n",
      "40.5\n"
     ]
    }
   ],
   "source": [
    "## 2.자료형\n",
    "## 기본 자료형 : 자연수(Returnal) : 정수 리터널 :\n",
    "##                                  실수 리터널 : \n",
    "## 문자 : 자연어 : 영어, 한국어 등 언어 ...\n",
    "##                 문자 리터널 : \n",
    "a = 20 # 정수 리터널을 가진 변수 a\n",
    "print (a)\n",
    "b = 30  # 정수 리터널 변수 b\n",
    "print (a+b)\n",
    "c = 10.5 # 실수 리터널 변수 c\n",
    "print (b+c)"
   ]
  },
  {
   "cell_type": "code",
   "execution_count": 25,
   "id": "49fc4e73-908d-467b-8fba-82364e7899c8",
   "metadata": {},
   "outputs": [
    {
     "name": "stdout",
     "output_type": "stream",
     "text": [
      "28\n",
      "12\n",
      "160\n",
      "2.5\n",
      "4\n",
      "2\n",
      "1000\n"
     ]
    }
   ],
   "source": [
    "# 숫자 연산자\n",
    "i = 20\n",
    "j = 8\n",
    "print (i + j)\n",
    "print (i - j)\n",
    "print (i * j)\n",
    "print (i / j)\n",
    "print (i % j) # 나머지 연산자\n",
    "print (i // j)  # 몫 구하는 연산자\n",
    "print (10 ** 3)  # 제곱수 구하는 연산자"
   ]
  },
  {
   "cell_type": "code",
   "execution_count": 35,
   "id": "5df90171-3d9d-4650-a78b-f71625eaed81",
   "metadata": {},
   "outputs": [
    {
     "name": "stdout",
     "output_type": "stream",
     "text": [
      "ji\n",
      "20\n",
      "1010\n",
      "1010\n",
      "지병천\t지병천\t지병천\t\n",
      "====================================================================================================\n",
      "hello!\n",
      "====================================================================================================\n"
     ]
    }
   ],
   "source": [
    "# 문자열 리터널 : 문자 = 문자열 , \"\" or '' 사용해서 넣어줘야함.\n",
    "ji = 3\n",
    "지병천 = \"ji\"  # 문자 리터널 변수\n",
    "# 문자 리터널과 변수를 구별하기 위해서 문자열에 \"\" 사용\n",
    "# 숫자는 변수로 쓸 수 없다. 10 = \"ji\"\n",
    "print (지병천)\n",
    "str1 = 10 # 정수 리터널 \n",
    "str1 = \"10\" # 문자 리터널\n",
    "print(10 + 10) # 정수 + 정수\n",
    "print(\"10\" + \"10\") # 문자 + 문자\n",
    "print(str(10) + \"10\") # 정수 + 문자\n",
    "# + 는 연결 연산자, * 는 반복 연산자\n",
    "print (\"지병천\\t\" * 3)\n",
    "print (\"=\" * 100)\n",
    "print (\"hello!\")\n",
    "print (\"=\" * 100)"
   ]
  },
  {
   "cell_type": "code",
   "execution_count": 41,
   "id": "b08b9766-e332-4087-9618-0d2be6374a0e",
   "metadata": {},
   "outputs": [
    {
     "name": "stdout",
     "output_type": "stream",
     "text": [
      "맞다\n",
      "안녕하세요 \"병천\"님?\n"
     ]
    }
   ],
   "source": [
    "str1 = \"Life is short, You need python\"\n",
    "str2 = \"Life is short, You need python\"\n",
    "# escape : 탈출시키다. escape 문자(\\)\n",
    "str3 = \"Life\\'s short, You need python\"\n",
    "str4 = '안녕하세요 \"병천\"님?'   # 인용 부호\n",
    "if str1==str2:\n",
    "    print('맞다')\n",
    "else:\n",
    "    print('틀리다')\n",
    "\n",
    "print(str4)"
   ]
  },
  {
   "cell_type": "code",
   "execution_count": 45,
   "id": "8abd0977-5c30-49a2-aa2e-284bc95bd081",
   "metadata": {},
   "outputs": [
    {
     "name": "stdout",
     "output_type": "stream",
     "text": [
      "Life is short, \n",
      "You need python\n",
      "Life is short, \n",
      "You need python\n"
     ]
    }
   ],
   "source": [
    "print('''Life is short, \n",
    "You need python''')\n",
    "print(\"\"\"Life is short, \n",
    "You need python\"\"\")\n",
    "## 파이썬에서 문자열을 표시하는 방법 : \" \",' ',\"\"\" \"\"\",''' '''(3개짜리는 행바꿈도 적용됨.)"
   ]
  },
  {
   "cell_type": "code",
   "execution_count": 51,
   "id": "aae627ca-a563-4ff3-8d7b-c50005583f5e",
   "metadata": {},
   "outputs": [
    {
     "name": "stdout",
     "output_type": "stream",
     "text": [
      "Life is too short, You need python\n",
      "34\n",
      "34\n"
     ]
    }
   ],
   "source": [
    "str1 = \"Life is too short, You need python\"\n",
    "print(str1)\n",
    "print(len(str1))\n",
    "print(len(\"Life is too short, You need python\"))"
   ]
  },
  {
   "cell_type": "code",
   "execution_count": 71,
   "id": "a4f77fc7-877d-4221-a49b-84db543efba6",
   "metadata": {},
   "outputs": [
    {
     "name": "stdout",
     "output_type": "stream",
     "text": [
      "s\n",
      "s\n",
      "n\n",
      "L\n",
      "n\n",
      "Life\n",
      "Life\n",
      "Life\n",
      "Lif\n",
      "too s\n",
      "too s\n",
      "e is \n"
     ]
    }
   ],
   "source": [
    "# indexing\n",
    "# index : 문자에 표시된 고유 번호, 0~\n",
    "# python은 -(음수)를 갖는 인덱스를 사용할 수도 있다. 반대로 진행\n",
    "str1 = \"Life is too short, You need python\"\n",
    "print(str1[12])\n",
    "print(str1[-22])\n",
    "print(str1[len(str1) - 1]) # 마지막 문자 가져오기.\n",
    "print(str1[-len(str1)])  # 첫 문자 가져오기\n",
    "print(\"Life is too short, You need python\"[33])\n",
    "\n",
    "print(str1[0]+str1[1]+str1[2]+str1[3])\n",
    "print(str1[0:0+4])\n",
    "print(str1[0:4]) # start = 0, end = 4\n",
    "print(str1[0:3]) # start = 0, end = 3\n",
    "print(str1[8:8+5])\n",
    "print(str1[8:13])\n",
    "idx = 3\n",
    "글수 = 5\n",
    "print(str1[idx:idx+글수])"
   ]
  },
  {
   "cell_type": "code",
   "execution_count": 76,
   "id": "48964747-2f78-4e17-a589-e5de10c50f5c",
   "metadata": {},
   "outputs": [
    {
     "name": "stdout",
     "output_type": "stream",
     "text": [
      "Life is\n",
      "Life is\n",
      "Life is\n",
      "Life is\n"
     ]
    }
   ],
   "source": [
    "str1 = \"Life is too short, You need python\"\n",
    "print(str1[0:0+7])\n",
    "print(str1[-34:0+7])\n",
    "print(str1[-34:-34+7])\n",
    "print(str1[-len(str1): -27])"
   ]
  },
  {
   "cell_type": "code",
   "execution_count": 83,
   "id": "247c1e69-3443-4b11-8e7f-7f8f3a0e34ee",
   "metadata": {},
   "outputs": [
    {
     "name": "stdout",
     "output_type": "stream",
     "text": [
      "20010331\n",
      "Rainy\n",
      "2001년 03월 31일 Rainy\n"
     ]
    }
   ],
   "source": [
    "a = \"20010331Rainy\"\n",
    "#### 날짜와 이름을 분리하여 출력\n",
    "print(a[:8])\n",
    "print(a[8:])\n",
    "\n",
    "year = a[0:0+4]\n",
    "month = a[4:4+2]\n",
    "day = a[6:6+2]\n",
    "date = a[8:8+5]\n",
    "print(year + '년 ' + month + '월 ' + day + '일 ' +date)"
   ]
  },
  {
   "cell_type": "code",
   "execution_count": 96,
   "id": "31fb82b1-5fab-45da-b29c-9b6d44732c53",
   "metadata": {},
   "outputs": [
    {
     "name": "stdout",
     "output_type": "stream",
     "text": [
      "Life is too short, You need python\n",
      "Life is too short, You need python\n",
      "Life is too short, You need python\n",
      "Lf stosot o edpto\n",
      "Lesosr ue tn\n",
      "nohtyp deen uoY ,trohs oot si efiL\n",
      "fe is too sh\n",
      "f stos\n",
      "hs oot si ef\n"
     ]
    }
   ],
   "source": [
    "print(str1)\n",
    "print(str1[:len(str1)])\n",
    "print(str1[:])\n",
    "print(str1[::2]) #처음부터 인덱스 2개 마다\n",
    "print(str1[::3]) #처음부터 인덱스 3개 마다\n",
    "print(str1[::-1]) #문자열 거꾸로 출력\n",
    "print(str1[2:14])\n",
    "print(str1[2:14:2])\n",
    "print(str1[13:1:-1])"
   ]
  },
  {
   "cell_type": "code",
   "execution_count": 100,
   "id": "feafb234-1fdc-4ba9-9336-dd43a592e878",
   "metadata": {},
   "outputs": [
    {
     "name": "stdout",
     "output_type": "stream",
     "text": [
      "i\n",
      "Python\n"
     ]
    }
   ],
   "source": [
    "z = \"Pithon\"\n",
    "print(z[1])\n",
    "# z[1] = \"y\" 문자열은 index를 이용해서 수정할 수 없음!\n",
    "print(z[0] + 'y' + z[2:])"
   ]
  },
  {
   "cell_type": "code",
   "execution_count": 114,
   "id": "a392eb4c-297a-4d97-9dc4-d7afc2fc993e",
   "metadata": {},
   "outputs": [
    {
     "name": "stdout",
     "output_type": "stream",
     "text": [
      "현재 온도는 15도 입니다.\n",
      "현재 온도는 15도 입니다.\n",
      "현재 온도는 15도 입니다.\n",
      "I eat 5 Apples\n",
      "I eat five Apples\n",
      "I eat five Apples\n",
      "I eat 0.5 Apples\n"
     ]
    }
   ],
   "source": [
    "# 문자열 포매팅이란?\n",
    "print(\"현재 온도는 15도 입니다.\")\n",
    "\n",
    "temp = 15\n",
    "print(\"현재 온도는 \"+str(temp)+\"도 입니다.\")\n",
    "# 포맷 문자열을 이용한 포맷팅\n",
    "\n",
    "print(\"현재 온도는 %d도 입니다.\" %temp)\n",
    "\n",
    "app = 5\n",
    "print(\"I eat %d Apples\"%app)\n",
    "print(\"I eat %s Apples\"%'five')\n",
    "app2 = 'five'\n",
    "print(\"I eat %s Apples\"%app2)\n",
    "app3 = 0.5\n",
    "print(\"I eat %0.1f Apples\"%app3)"
   ]
  },
  {
   "cell_type": "code",
   "execution_count": 128,
   "id": "a3441f6f-ec16-40a5-bee0-f8cc1e71a7dc",
   "metadata": {},
   "outputs": [
    {
     "name": "stdout",
     "output_type": "stream",
     "text": [
      "나의 이름은 J 이고 나이는 29 이다.\n",
      "J의 계좌번호는 '231402' 이고 잔액은 380000원 입니다.\n"
     ]
    }
   ],
   "source": [
    "name = 'J'\n",
    "age = 29\n",
    "print('나의 이름은 %s 이고 나이는 %d 이다.'%(name,age))  #포매팅 변수가 2개 이상일 경우 소괄호로 묶어줘야 함.\n",
    "\n",
    "acnum = '231402'\n",
    "money = 380000\n",
    "\n",
    "print(\"%s의 계좌번호는 '%s' 이고 잔액은 %d원 입니다.\" %(name,acnum,money))"
   ]
  },
  {
   "cell_type": "code",
   "execution_count": 139,
   "id": "68fa5a3c-0e9d-4c0f-9b6f-c9980002294a",
   "metadata": {},
   "outputs": [
    {
     "name": "stdout",
     "output_type": "stream",
     "text": [
      "Ji의 나이는 29살이고, 키는 178.5cm 입니다.\n",
      "Ji의 나이는 29살이고, 키는 178.5cm 입니다.\n",
      "우리반의 취업률은 95%입니다.\n",
      "        Ji의 나이는         29살이고, 키는      178.5cm 입니다.\n",
      "Ji        의 나이는 29        살이고, 키는 178.5     cm 입니다.\n"
     ]
    }
   ],
   "source": [
    "name = 'Ji'\n",
    "age = 29\n",
    "height = 178.5\n",
    "\n",
    "res = '%s의 나이는 %d살이고, 키는 %.1fcm 입니다.' %(name,age,height)\n",
    "print(res)\n",
    "\n",
    "res = '%s의 나이는 %s살이고, 키는 %scm 입니다.' %(name,age,height)\n",
    "print(res)\n",
    "\n",
    "result = '우리반의 취업률은 %d%%입니다.' %95\n",
    "print(result)\n",
    "\n",
    "# 정렬과 공백 : + 오른쪽 정렬 , - 왼쪽 정렬\n",
    "\n",
    "res = '%10s의 나이는 %10s살이고, 키는 %10scm 입니다.' %(name,age,height)\n",
    "print(res)\n",
    "\n",
    "res = '%-10s의 나이는 %-10s살이고, 키는 %-10scm 입니다.' %(name,age,height)\n",
    "print(res)\n",
    "\n"
   ]
  },
  {
   "cell_type": "code",
   "execution_count": 153,
   "id": "4a699a61-0901-4407-9790-9d78a145081c",
   "metadata": {},
   "outputs": [
    {
     "name": "stdout",
     "output_type": "stream",
     "text": [
      "Ji의 나이는 29살이고, 키는 178.5cm 입니다.\n",
      "Ji의 나이는 29살이고, Ji의 키는 178.5cm 입니다.\n",
      "Ji   의 나이는    29살이고, Ji   의 키는 178.5cm 입니다.\n",
      "Ji   의 나이는 29   살이고, Ji   의 키는 178.5cm 입니다.\n",
      "   Ji의 나이는    29살이고,    Ji의 키는 178.5cm 입니다.\n",
      " Ji  의 나이는  29  살이고,  Ji  의 키는 178.5cm 입니다.\n",
      "**Ji**의 나이는 **29**살이고, **Ji**의 키는 178.5*cm 입니다.\n"
     ]
    }
   ],
   "source": [
    "#format 함수를 사용한 포매팅 : format()\n",
    "res = '%s의 나이는 %d살이고, 키는 %.1fcm 입니다.' %(name,age,height) # 포맷 문자열 이용\n",
    "print('{0}의 나이는 {1}살이고, 키는 {2}cm 입니다.'.format(name,age,height)) # 인덱스 번호로 부른다.\n",
    "\n",
    "print('%s의 나이는 %s살이고, %s의 키는 %.1fcm 입니다.'%(name,age,name,height))\n",
    "# 문자는 왼쪽 정렬,숫자는 오른쪽 정렬이 기본. 정렬 바꾸려면 <,>,^(중앙) 사용. 앞에 특문을 붙여서 공백을 채워넣을 수도 있음.\n",
    "print('{0:5}의 나이는 {1:5}살이고, {0:5}의 키는 {2:5}cm 입니다.'.format(name,age,height))\n",
    "print('{0:<5}의 나이는 {1:<5}살이고, {0:<5}의 키는 {2:<5}cm 입니다.'.format(name,age,height))\n",
    "print('{0:>5}의 나이는 {1:>5}살이고, {0:>5}의 키는 {2:>5}cm 입니다.'.format(name,age,height))\n",
    "print('{0:^5}의 나이는 {1:^5}살이고, {0:^5}의 키는 {2:^5}cm 입니다.'.format(name,age,height))\n",
    "print('{0:*^6}의 나이는 {1:*^6}살이고, {0:*^6}의 키는 {2:*^6}cm 입니다.'.format(name,age,height))"
   ]
  },
  {
   "cell_type": "code",
   "execution_count": 161,
   "id": "78cce0e8-a635-40c6-b447-f2f69115a3ff",
   "metadata": {},
   "outputs": [
    {
     "name": "stdout",
     "output_type": "stream",
     "text": [
      "{Ji}의 나이는 29살이고, 키는 178.5cm 입니다.\n"
     ]
    }
   ],
   "source": [
    "#{} 출력하기\n",
    "print(\"{{{0}}}의 나이는 {1}살이고, 키는 {2}cm 입니다.\".format(name,age,height));"
   ]
  },
  {
   "cell_type": "code",
   "execution_count": 166,
   "id": "0b1a657a-fcac-48a0-9661-458dbe154fe0",
   "metadata": {},
   "outputs": [
    {
     "name": "stdout",
     "output_type": "stream",
     "text": [
      "Ji의 나이는 29살이고 키는 178.5cm 입니다.\n",
      "Ji의 나이는 29살이고 키는 178.5cm 입니다.\n",
      "Ji의 나이는 29살이고 키는 178.5cm 입니다.\n"
     ]
    }
   ],
   "source": [
    "#인자에 변수명 주기\n",
    "print(\"{0}의 나이는 {1}살이고 키는 {키}cm 입니다.\".format(name,29,키 = height))\n",
    "\n",
    "print(\"{0}의 나이는 {나이}살이고 키는 {키}cm 입니다.\".format(name,나이 = age,키 = height))\n",
    "\n",
    "print(\"{나}의 나이는 {나이}살이고 키는 {키}cm 입니다.\".format(나 = name,나이 = age,키 = height))"
   ]
  },
  {
   "cell_type": "code",
   "execution_count": 167,
   "id": "603ff80e-e113-4735-9983-c63670cd71ae",
   "metadata": {},
   "outputs": [
    {
     "name": "stdout",
     "output_type": "stream",
     "text": [
      "Ji의 나이는 29살이고, 키는 178.5cm 입니다.\n"
     ]
    }
   ],
   "source": [
    "#f 문자열 포매팅\n",
    "print(f\"{name}의 나이는 {age}살이고, 키는 {height}cm 입니다.\")"
   ]
  },
  {
   "cell_type": "code",
   "execution_count": 171,
   "id": "8449de0d-e8dd-4a90-aa96-ae588f5c73d9",
   "metadata": {},
   "outputs": [
    {
     "name": "stdout",
     "output_type": "stream",
     "text": [
      "Ji        의 나이는         29살이고, 키는      178.5cm 입니다.\n",
      "Ji        의 나이는 29        살이고, 키는 178.5     cm 입니다.\n",
      "        Ji의 나이는         29살이고, 키는      178.5cm 입니다.\n",
      "    Ji    의 나이는     29    살이고, 키는   178.5   cm 입니다.\n",
      "....Ji....의 나이는 ....29....살이고, 키는 ..178.5...cm 입니다.\n"
     ]
    }
   ],
   "source": [
    "#정렬과 공백\n",
    "print(f\"{name:10}의 나이는 {age:10}살이고, 키는 {height:10}cm 입니다.\")\n",
    "print(f\"{name:<10}의 나이는 {age:<10}살이고, 키는 {height:<10}cm 입니다.\")\n",
    "print(f\"{name:>10}의 나이는 {age:>10}살이고, 키는 {height:>10}cm 입니다.\")\n",
    "print(f\"{name:^10}의 나이는 {age:^10}살이고, 키는 {height:^10}cm 입니다.\")\n",
    "print(f\"{name:.^10}의 나이는 {age:.^10}살이고, 키는 {height:.^10}cm 입니다.\")"
   ]
  },
  {
   "cell_type": "code",
   "execution_count": 181,
   "id": "45fb7cf1-ed52-4ee4-9de3-9351736873c9",
   "metadata": {},
   "outputs": [
    {
     "name": "stdout",
     "output_type": "stream",
     "text": [
      "9 * 3 = 27\n",
      "9  *  3  =  27\n",
      "9 * 3 = 27\n"
     ]
    }
   ],
   "source": [
    "str = 10\n",
    "del str\n",
    "dan = 9\n",
    "gop = 3\n",
    "# 변수명 함수명을 구분하지 않는다. (변수와 함수명은 유일해야한다.)\n",
    "print(str(dan) + \" * \" + str(gop) + \" = \" + str(dan*gop))\n",
    "print(str(dan), \" * \" , str(gop) , \" = \" , str(dan*gop))\n",
    "\n",
    "print(f'{dan} * {gop} = {dan * gop}')"
   ]
  },
  {
   "cell_type": "code",
   "execution_count": 189,
   "id": "b7f3aba2-d76b-4c16-af17-fef062688e8e",
   "metadata": {},
   "outputs": [
    {
     "name": "stdout",
     "output_type": "stream",
     "text": [
      "hobby\n",
      "5\n",
      "5\n",
      "2\n",
      "2\n",
      "3\n"
     ]
    }
   ],
   "source": [
    "# 문자열 관련 함수들 : 문자열 가공하기\n",
    "a = \"hobby\"\n",
    "print(a)\n",
    "# 문자열 크기\n",
    "print(len(a))\n",
    "print(len(\"hobby\"))\n",
    "# 특정 문자의 갯수\n",
    "print(a.count(\"b\"))\n",
    "print(\"hobby\".count(\"b\"))\n",
    "\n",
    "str2 = \"Life is too short\"\n",
    "print(str2.count(\"o\"))"
   ]
  },
  {
   "cell_type": "code",
   "execution_count": 202,
   "id": "e3146ce1-a30f-4fed-afa6-7cd749f1a6db",
   "metadata": {},
   "outputs": [
    {
     "name": "stdout",
     "output_type": "stream",
     "text": [
      "too\n",
      "8\n",
      "too\n",
      "too\n",
      "ife \n",
      "shor\n"
     ]
    }
   ],
   "source": [
    "\"Life is too short\"\n",
    "print(str2[8:8+3]) # str2.substring(8,8+3)\n",
    "idx = str2.index(\"too\")  # idx = str2.indexOf(\"too\")\n",
    "print(idx)\n",
    "print(str2[idx:idx+3]) # str2.substring(idx,idx+3)\n",
    "\n",
    "# t부터 3글자 ~ .find\n",
    "print(str2[str2.find(\"t\"):str2.find(\"t\")+3])\n",
    "\n",
    "# i부터 4글자\n",
    "print(str2[str2.find(\"i\"):str2.index(\"i\")+4])\n",
    "\n",
    "# 두번째 s부터 4글자\n",
    "idex = str2.index(\"s\",str2.index(\"s\")+1)\n",
    "print(str2[idex:idex+4])"
   ]
  },
  {
   "cell_type": "code",
   "execution_count": 204,
   "id": "6893db18-42a9-461c-85e5-2fb7fecfb90e",
   "metadata": {},
   "outputs": [
    {
     "name": "stdout",
     "output_type": "stream",
     "text": [
      "thon\n"
     ]
    }
   ],
   "source": [
    "str3 = \"Life is too short, You need python\"\n",
    "idx2 = str3.index(\"t\",str3.index(\"t\",str3.index(\"t\")+1)+1)\n",
    "print(str3[idx2:idx2+4])"
   ]
  },
  {
   "cell_type": "code",
   "execution_count": 206,
   "id": "5981adea-76cc-4016-a035-c17f1ef4d8eb",
   "metadata": {},
   "outputs": [
    {
     "name": "stdout",
     "output_type": "stream",
     "text": [
      "thon\n"
     ]
    }
   ],
   "source": [
    "#마지막 't'에서 4글자\n",
    "idx3 = str1.rindex(\"t\")\n",
    "print(str3[idx3:idx3+4])"
   ]
  },
  {
   "cell_type": "code",
   "execution_count": 210,
   "id": "b3871dfc-1bd6-45e8-9ebb-219e449a69d0",
   "metadata": {},
   "outputs": [
    {
     "name": "stdout",
     "output_type": "stream",
     "text": [
      "too \n",
      "too \n",
      "t\n"
     ]
    }
   ],
   "source": [
    "#too 출력\n",
    "idex4 = str2.index('t')\n",
    "print(str2[idex4:idex4+4])\n",
    "\n",
    "idex4 = str2.find('t')\n",
    "print(str2[idex4:idex4+4])\n",
    "\n",
    "idex4 = str2.rfind('t')\n",
    "print(str2[idex4:idex4+3])"
   ]
  },
  {
   "cell_type": "code",
   "execution_count": 213,
   "id": "f8b2f9ec-a97d-44cd-8ff2-40044f49ade5",
   "metadata": {},
   "outputs": [
    {
     "name": "stdout",
     "output_type": "stream",
     "text": [
      "-1\n"
     ]
    }
   ],
   "source": [
    "idx = str2.find('z')\n",
    "print(idx)   # 찾는 문자가 없는 경우 -1\n",
    "# .index() 는 문자가 없는 경우 오류난다."
   ]
  },
  {
   "cell_type": "code",
   "execution_count": 216,
   "id": "d326795a-0e6b-448f-8474-1fadd9f07619",
   "metadata": {},
   "outputs": [
    {
     "name": "stdout",
     "output_type": "stream",
     "text": [
      "Life is too short\n",
      "life is too short\n",
      "LIFE IS TOO SHORT\n"
     ]
    }
   ],
   "source": [
    "print(str2)\n",
    "print(str2.lower())  # str2.lowercase (자바에서)\n",
    "print(str2.upper())  # str2.uppercase (자바에서)"
   ]
  },
  {
   "cell_type": "code",
   "execution_count": 227,
   "id": "eb53695f-3f49-48af-b7a2-0104d8c75641",
   "metadata": {},
   "outputs": [
    {
     "name": "stdout",
     "output_type": "stream",
     "text": [
      "hello!\n",
      "hello!      \n",
      "    hello!\n",
      "hello!\n"
     ]
    }
   ],
   "source": [
    "str4 = \"    hello!      \"\n",
    "print(str4.strip())   # trim()\n",
    "\n",
    "str4 = \"    hello!      \"\n",
    "print(str4.lstrip())   # trim()\n",
    "\n",
    "str4 = \"    hello!      \"\n",
    "print(str4.rstrip())   # trim()\n",
    "\n",
    "str4 = \"bbhello!bb\"\n",
    "print(str4.strip(\"bb\"))   # trim()"
   ]
  },
  {
   "cell_type": "code",
   "execution_count": 231,
   "id": "f0354568-4d44-42cc-8dd3-f28d3a1976d5",
   "metadata": {},
   "outputs": [
    {
     "name": "stdout",
     "output_type": "stream",
     "text": [
      "Your Leg is too short\n",
      "['Life', 'is', 'too', 'short']\n",
      "['Life', 'is', 'too', 'short']\n"
     ]
    }
   ],
   "source": [
    "# 문자열 대체하기\n",
    "str4 = \"Life is too short\"\n",
    "resl = str4.replace(\"Life\",\"Your Leg\")\n",
    "print(resl)\n",
    "\n",
    "resl = str4.split()\n",
    "print(resl)    # list\n",
    "\n",
    "str5 = \"Life:is:too:short\"\n",
    "resl = str5.split(\":\")    # python의 split은 인자 1개로밖에 나눠볼 수 없다.\n",
    "\n",
    "print(resl)"
   ]
  }
 ],
 "metadata": {
  "kernelspec": {
   "display_name": "Python 3 (ipykernel)",
   "language": "python",
   "name": "python3"
  },
  "language_info": {
   "codemirror_mode": {
    "name": "ipython",
    "version": 3
   },
   "file_extension": ".py",
   "mimetype": "text/x-python",
   "name": "python",
   "nbconvert_exporter": "python",
   "pygments_lexer": "ipython3",
   "version": "3.12.1"
  }
 },
 "nbformat": 4,
 "nbformat_minor": 5
}
