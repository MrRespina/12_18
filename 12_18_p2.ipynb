{
 "cells": [
  {
   "cell_type": "code",
   "execution_count": 2,
   "id": "4eacc988-7f3f-4c99-a1ea-a428e36dc7dd",
   "metadata": {},
   "outputs": [
    {
     "name": "stdout",
     "output_type": "stream",
     "text": [
      "hello world!\n"
     ]
    }
   ],
   "source": [
    "print('hello world!')"
   ]
  },
  {
   "cell_type": "code",
   "execution_count": 4,
   "id": "0e144fc1-68d6-4538-b283-a06e6a8aaa29",
   "metadata": {},
   "outputs": [
    {
     "name": "stdout",
     "output_type": "stream",
     "text": [
      "Mary's cosmetics\n"
     ]
    }
   ],
   "source": [
    "print(\"Mary's cosmetics\")"
   ]
  },
  {
   "cell_type": "code",
   "execution_count": 6,
   "id": "dfe3cb4a-7eb7-4cb4-8e1b-6fa38c835603",
   "metadata": {},
   "outputs": [
    {
     "name": "stdout",
     "output_type": "stream",
     "text": [
      "신씨가 소리질렀다. \"도둑이야!\".\n"
     ]
    }
   ],
   "source": [
    "print('신씨가 소리질렀다. \"도둑이야!\".')"
   ]
  },
  {
   "cell_type": "code",
   "execution_count": 8,
   "id": "18d0d638-5dc7-438b-8e5f-e9cf3c275aac",
   "metadata": {},
   "outputs": [
    {
     "name": "stdout",
     "output_type": "stream",
     "text": [
      "C:\\Windows\n"
     ]
    }
   ],
   "source": [
    "print(\"C:\\\\Windows\")"
   ]
  },
  {
   "cell_type": "code",
   "execution_count": 11,
   "id": "be7b0ba3-12cd-4029-9080-9d660df4cf83",
   "metadata": {},
   "outputs": [
    {
     "name": "stdout",
     "output_type": "stream",
     "text": [
      "안녕하세요.\n",
      "만나서\t\t반갑습니다\n"
     ]
    }
   ],
   "source": [
    "# \\t : 탭, \\n : 줄바꿈\n",
    "print(\"안녕하세요.\\n만나서\\t\\t반갑습니다\");"
   ]
  },
  {
   "cell_type": "code",
   "execution_count": 13,
   "id": "57abd728-1942-4f8b-9eb1-fadfae1c6103",
   "metadata": {},
   "outputs": [
    {
     "name": "stdout",
     "output_type": "stream",
     "text": [
      "오늘은 일요일\n"
     ]
    }
   ],
   "source": [
    "print(\"오늘은\",\"일요일\")"
   ]
  },
  {
   "cell_type": "code",
   "execution_count": 16,
   "id": "5dc746fc-1d0a-47b6-84b2-08fd148a5be9",
   "metadata": {},
   "outputs": [
    {
     "name": "stdout",
     "output_type": "stream",
     "text": [
      "naver;kakao;sk;samsung\n"
     ]
    }
   ],
   "source": [
    "print(\"naver\",\"kakao\",\"sk\",\"samsung\",sep=\";\")"
   ]
  },
  {
   "cell_type": "code",
   "execution_count": 18,
   "id": "70fd7bb9-8ff0-4ff4-9e6e-011e5e213432",
   "metadata": {},
   "outputs": [
    {
     "name": "stdout",
     "output_type": "stream",
     "text": [
      "naver/kakao/sk/samsung\n"
     ]
    }
   ],
   "source": [
    "print(\"naver\",\"kakao\",\"sk\",\"samsung\",sep=\"/\")"
   ]
  },
  {
   "cell_type": "code",
   "execution_count": 22,
   "id": "99215153-0efd-4759-91ef-3bd044e75890",
   "metadata": {},
   "outputs": [
    {
     "name": "stdout",
     "output_type": "stream",
     "text": [
      "first,second\n"
     ]
    }
   ],
   "source": [
    "print(\"first\",end=\",\");print(\"second\")"
   ]
  },
  {
   "cell_type": "code",
   "execution_count": 24,
   "id": "610888ae-2d30-49c8-ac82-88d0c98b5b9e",
   "metadata": {},
   "outputs": [
    {
     "name": "stdout",
     "output_type": "stream",
     "text": [
      "1.6666666666666667\n"
     ]
    }
   ],
   "source": [
    "print(5/3)"
   ]
  },
  {
   "cell_type": "code",
   "execution_count": 26,
   "id": "3961b617-df46-4cae-a13d-a1b990ec4d9f",
   "metadata": {},
   "outputs": [
    {
     "name": "stdout",
     "output_type": "stream",
     "text": [
      "총 평가금 = 500000\n"
     ]
    }
   ],
   "source": [
    "삼성전자 = 50000\n",
    "주식 = 10\n",
    "print(f'총 평가금 = {삼성전자*주식}')"
   ]
  },
  {
   "cell_type": "code",
   "execution_count": 27,
   "id": "06902470-2806-44be-ae62-37468af0c2b1",
   "metadata": {},
   "outputs": [],
   "source": [
    "시가총액 = 298000000000000\n",
    "현재가 = 50000\n",
    "PER = 15.79"
   ]
  },
  {
   "cell_type": "code",
   "execution_count": 29,
   "id": "243c3732-e001-4847-9374-30c59e6dd934",
   "metadata": {},
   "outputs": [
    {
     "name": "stdout",
     "output_type": "stream",
     "text": [
      "hello! python\n"
     ]
    }
   ],
   "source": [
    "s = \"hello\"\n",
    "t = \"python\"\n",
    "print(s+'! '+t)"
   ]
  },
  {
   "cell_type": "code",
   "execution_count": 31,
   "id": "3bd88f58-244b-4b82-9e7f-2c692018e885",
   "metadata": {},
   "outputs": [
    {
     "name": "stdout",
     "output_type": "stream",
     "text": [
      "<class 'str'>\n"
     ]
    }
   ],
   "source": [
    "a = \"132\"\n",
    "print(type(a))"
   ]
  },
  {
   "cell_type": "code",
   "execution_count": 35,
   "id": "a13c9606-a89b-42e1-abf8-7f3df4d3f194",
   "metadata": {},
   "outputs": [
    {
     "name": "stdout",
     "output_type": "stream",
     "text": [
      "p t\n"
     ]
    }
   ],
   "source": [
    "letters = 'python'\n",
    "print(letters[:1],letters[2:2+1])"
   ]
  },
  {
   "cell_type": "code",
   "execution_count": 45,
   "id": "51166bf1-8380-4142-a01d-7a24e00de955",
   "metadata": {},
   "outputs": [
    {
     "name": "stdout",
     "output_type": "stream",
     "text": [
      "2210\n"
     ]
    }
   ],
   "source": [
    "license = \"24가 2210\"\n",
    "print(license[-4:])"
   ]
  },
  {
   "cell_type": "code",
   "execution_count": 47,
   "id": "dfe2c06c-507c-492b-939e-26cc1b2e1ddd",
   "metadata": {},
   "outputs": [
    {
     "name": "stdout",
     "output_type": "stream",
     "text": [
      "홀홀홀\n"
     ]
    }
   ],
   "source": [
    "string = \"홀짝홀짝홀짝\"\n",
    "print(string[::2])"
   ]
  },
  {
   "cell_type": "code",
   "execution_count": 49,
   "id": "099eafcb-94e0-4688-b231-828fd5cef153",
   "metadata": {},
   "outputs": [
    {
     "name": "stdout",
     "output_type": "stream",
     "text": [
      "NOHTYP\n"
     ]
    }
   ],
   "source": [
    "string = \"PYTHON\"\n",
    "print(string[::-1])"
   ]
  },
  {
   "cell_type": "code",
   "execution_count": 61,
   "id": "192aa313-e8ff-4da0-9b02-9fdd2ffec3be",
   "metadata": {},
   "outputs": [
    {
     "name": "stdout",
     "output_type": "stream",
     "text": [
      "010 1111 2222\n"
     ]
    }
   ],
   "source": [
    "stri = \"010-1111-2222\"\n",
    "print(stri.replace(\"-\",\" \"))"
   ]
  },
  {
   "cell_type": "code",
   "execution_count": 65,
   "id": "52170ae8-7f2b-4360-90c0-7345023a9456",
   "metadata": {},
   "outputs": [
    {
     "name": "stdout",
     "output_type": "stream",
     "text": [
      "01011112222\n"
     ]
    }
   ],
   "source": [
    "stri = \"010-1111-2222\"\n",
    "print(stri.replace(\"-\",\"\"))"
   ]
  },
  {
   "cell_type": "code",
   "execution_count": 69,
   "id": "bfd5d323-6dd0-454b-bada-09ea044b4411",
   "metadata": {},
   "outputs": [
    {
     "name": "stdout",
     "output_type": "stream",
     "text": [
      "kr\n"
     ]
    }
   ],
   "source": [
    "url = \"http://sharebook.kr\"\n",
    "addr = url.rindex(\".\") + 1\n",
    "print(url[addr:addr+2])"
   ]
  },
  {
   "cell_type": "code",
   "execution_count": 71,
   "id": "3f2b63d3-6eeb-4fc0-96ea-f8968117e8db",
   "metadata": {},
   "outputs": [
    {
     "name": "stdout",
     "output_type": "stream",
     "text": [
      "kr\n"
     ]
    }
   ],
   "source": [
    "url = \"http://sharebook.kr\"\n",
    "split = url.split('.')\n",
    "print(split[-1])"
   ]
  },
  {
   "cell_type": "code",
   "execution_count": 76,
   "id": "2a884fb1-4a72-4588-85ca-324325008006",
   "metadata": {},
   "outputs": [
    {
     "name": "stdout",
     "output_type": "stream",
     "text": [
      "Abcfe2A354A32A\n"
     ]
    }
   ],
   "source": [
    "str2 = 'abcfe2a354a32a'\n",
    "str3 = str2.replace('a','A')\n",
    "print(str3)"
   ]
  },
  {
   "cell_type": "code",
   "execution_count": 78,
   "id": "0fd1b52a-5812-4553-9490-92a4a34a1e22",
   "metadata": {},
   "outputs": [
    {
     "name": "stdout",
     "output_type": "stream",
     "text": [
      "--------------------------------------------------------------------------------\n"
     ]
    }
   ],
   "source": [
    "print(\"-\"*80)"
   ]
  },
  {
   "cell_type": "code",
   "execution_count": 84,
   "id": "3294314e-4c49-43e3-babb-dae58d6e10a3",
   "metadata": {},
   "outputs": [
    {
     "name": "stdout",
     "output_type": "stream",
     "text": [
      "Python Java Python Java Python Java \n"
     ]
    }
   ],
   "source": [
    "t1 = 'Python'\n",
    "t2 = 'Java'\n",
    "print(f\"{t1} {t2} \" * 3)"
   ]
  },
  {
   "cell_type": "code",
   "execution_count": 95,
   "id": "54dc32ce-1d50-4f73-a599-3b98f1adc673",
   "metadata": {},
   "outputs": [
    {
     "name": "stdout",
     "output_type": "stream",
     "text": [
      "이름: 김민수 나이: 10\n",
      "이름: 이철희 나이: 13\n",
      "********************************************************************************\n",
      "이름: 김민수 나이: 10\n",
      "이름: 이철희 나이: 13\n",
      "********************************************************************************\n",
      "이름: 김민수 나이: 10\n",
      "이름: 이철희 나이: 13\n"
     ]
    }
   ],
   "source": [
    "name1 = \"김민수\"\n",
    "age1 = 10\n",
    "name2 = \"이철희\"\n",
    "age2 = 13\n",
    "print(\"이름: %s 나이: %d\" %(name1,age1))\n",
    "print(\"이름: %s 나이: %d\" %(name2,age2))\n",
    "print('*' * 80)\n",
    "print(\"이름: {0} 나이: {1}\\n이름: {2} 나이: {3}\".format(name1,age1,name2,age2))\n",
    "print('*' * 80)\n",
    "print(f'이름: {name1} 나이: {age1}\\n이름: {name2} 나이: {age2}')"
   ]
  },
  {
   "cell_type": "code",
   "execution_count": 97,
   "id": "55153143-73b9-45c4-b069-5f3281d9e1ec",
   "metadata": {},
   "outputs": [
    {
     "name": "stdout",
     "output_type": "stream",
     "text": [
      "<class 'int'>\n"
     ]
    }
   ],
   "source": [
    "상장주식 = \"5,969,782,550\"\n",
    "num1 = 상장주식.replace(\",\",\"\")\n",
    "num_res = int(num1)\n",
    "print(type(num_res))"
   ]
  },
  {
   "cell_type": "code",
   "execution_count": 102,
   "id": "75c09d67-6ec3-47e0-82c9-0def23df804a",
   "metadata": {},
   "outputs": [
    {
     "name": "stdout",
     "output_type": "stream",
     "text": [
      "2023/03\n",
      "2023/03\n"
     ]
    }
   ],
   "source": [
    "분기 = \"2023/03(E) (IFRS연결)\"\n",
    "str1 = 분기.index(\"2\")\n",
    "print(분기[:7])\n",
    "print(분기[str1:str1+7])"
   ]
  },
  {
   "cell_type": "code",
   "execution_count": 103,
   "id": "bb9f3296-e0e3-4aec-ba36-66905ecee828",
   "metadata": {},
   "outputs": [
    {
     "name": "stdout",
     "output_type": "stream",
     "text": [
      "삼성전자\n"
     ]
    }
   ],
   "source": [
    "data = \"   삼성전자   \"\n",
    "nd = data.strip()\n",
    "print(nd)"
   ]
  }
 ],
 "metadata": {
  "kernelspec": {
   "display_name": "Python 3 (ipykernel)",
   "language": "python",
   "name": "python3"
  },
  "language_info": {
   "codemirror_mode": {
    "name": "ipython",
    "version": 3
   },
   "file_extension": ".py",
   "mimetype": "text/x-python",
   "name": "python",
   "nbconvert_exporter": "python",
   "pygments_lexer": "ipython3",
   "version": "3.12.1"
  }
 },
 "nbformat": 4,
 "nbformat_minor": 5
}
